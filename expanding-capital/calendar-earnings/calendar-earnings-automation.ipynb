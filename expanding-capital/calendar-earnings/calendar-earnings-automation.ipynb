{
 "cells": [
  {
   "cell_type": "markdown",
   "id": "7430a503",
   "metadata": {},
   "source": [
    "# 0. Installing"
   ]
  },
  {
   "cell_type": "code",
   "execution_count": null,
   "id": "87a8aa44",
   "metadata": {},
   "outputs": [],
   "source": [
    "! pip install --upgrade google-api-python-client google-auth-httplib2 google-auth-oauthlib gspread pandas openpyxl"
   ]
  },
  {
   "cell_type": "markdown",
   "id": "51947af2",
   "metadata": {},
   "source": [
    "# 1. Adding all events at once"
   ]
  },
  {
   "cell_type": "code",
   "execution_count": 2,
   "id": "337af37e",
   "metadata": {},
   "outputs": [
    {
     "name": "stdout",
     "output_type": "stream",
     "text": [
      "   Symbol                      Name       Date       Time              Type\n",
      "24   HIMS    Hims & Hers Health Inc 2025-05-05  17:00 EST    Earnings Calls\n",
      "23   HIMS    Hims & Hers Health Inc 2025-05-05        NaN  Earnings Results\n",
      "22   DDOG               Datadog Inc 2025-05-06  08:00 EST    Earnings Calls\n",
      "21   DDOG               Datadog Inc 2025-05-06        NaN  Earnings Results\n",
      "20    SYM              Symbotic Inc 2025-05-07  17:00 EST    Earnings Calls\n",
      "19    SYM              Symbotic Inc 2025-05-07        NaN  Earnings Results\n",
      "18   DASH              DoorDash Inc 2025-05-07  17:00 EST    Earnings Calls\n",
      "17   DASH              DoorDash Inc 2025-05-07        NaN  Earnings Results\n",
      "16   AFRM       Affirm Holdings Inc 2025-05-08  17:00 EST    Earnings Calls\n",
      "15   AFRM       Affirm Holdings Inc 2025-05-08        NaN  Earnings Results\n",
      "14   DKNG            DraftKings Inc 2025-05-08        NaN  Earnings Results\n",
      "13   BILL         BILL Holdings Inc 2025-05-08  16:30 EST    Earnings Calls\n",
      "12   BILL         BILL Holdings Inc 2025-05-08        NaN  Earnings Results\n",
      "11   CRSP    CRISPR Therapeutics AG 2025-05-08        NaN  Earnings Results\n",
      "10   DKNG            DraftKings Inc 2025-05-09  08:30 EST    Earnings Calls\n",
      "9    MNDY            Monday.Com Ltd 2025-05-12  08:30 EST    Earnings Calls\n",
      "8    MNDY            Monday.Com Ltd 2025-05-12        NaN  Earnings Results\n",
      "7    PANW    Palo Alto Networks Inc 2025-05-20  16:30 EST    Earnings Calls\n",
      "6    PANW    Palo Alto Networks Inc 2025-05-20        NaN  Earnings Results\n",
      "5    SNOW             Snowflake Inc 2025-05-22  15:00 EST    Earnings Calls\n",
      "4    SNOW             Snowflake Inc 2025-05-22        NaN  Earnings Results\n",
      "3     MDB               MongoDB Inc 2025-05-30  17:00 EST    Earnings Calls\n",
      "2     MDB               MongoDB Inc 2025-05-30        NaN  Earnings Results\n",
      "1    CRWD  CrowdStrike Holdings Inc 2025-06-04  17:00 EST    Earnings Calls\n",
      "0    CRWD  CrowdStrike Holdings Inc 2025-06-04        NaN  Earnings Results\n"
     ]
    }
   ],
   "source": [
    "import pandas as pd\n",
    "import datetime\n",
    "\n",
    "earnings_sheet = pd.read_excel('Earnings data.xlsx')\n",
    "just_new_events = earnings_sheet[earnings_sheet['Date']>datetime.datetime.today()]\n",
    "just_new_events_sorted = just_new_events[::-1]\n",
    "\n",
    "print(just_new_events_sorted)"
   ]
  },
  {
   "cell_type": "code",
   "execution_count": 3,
   "id": "ad3ca95f",
   "metadata": {},
   "outputs": [
    {
     "name": "stdout",
     "output_type": "stream",
     "text": [
      "[['HIMS', 'Hims & Hers Health Inc', Timestamp('2025-05-05 00:00:00'), '17:00 EST', 'Earnings Calls'], ['HIMS', 'Hims & Hers Health Inc', Timestamp('2025-05-05 00:00:00'), nan, 'Earnings Results'], ['DDOG', 'Datadog Inc', Timestamp('2025-05-06 00:00:00'), '08:00 EST', 'Earnings Calls'], ['DDOG', 'Datadog Inc', Timestamp('2025-05-06 00:00:00'), nan, 'Earnings Results']]\n"
     ]
    }
   ],
   "source": [
    "earnings_sheet_events = just_new_events_sorted.values.tolist()\n",
    "# Pegando os dois primeiros valores da lista\n",
    "events = earnings_sheet_events[:4]\n",
    "\n",
    "# Imprimindo a variável\n",
    "print(events)"
   ]
  },
  {
   "cell_type": "code",
   "execution_count": 4,
   "id": "576cdb72",
   "metadata": {},
   "outputs": [
    {
     "name": "stdout",
     "output_type": "stream",
     "text": [
      "HIMS - Earnings Results: 05/05/2025\n",
      "2025-05-05\n",
      "Event created: https://www.google.com/calendar/event?eid=N290cDdtaHJuanVma3FjNTk2cTM4a3ZpMmMgcmFmYWVsQHhjYXAudmM\n",
      "DDOG - Earnings Results: 06/05/2025\n",
      "2025-05-06\n",
      "Event created: https://www.google.com/calendar/event?eid=dXY4Ymg3NzBiOWpyczhpcG4xN3VwZmRzaTggcmFmYWVsQHhjYXAudmM\n"
     ]
    }
   ],
   "source": [
    "import os\n",
    "import pickle\n",
    "import datetime\n",
    "from google.auth.transport.requests import Request\n",
    "from google.oauth2.credentials import Credentials\n",
    "from googleapiclient.discovery import build\n",
    "from googleapiclient.errors import HttpError\n",
    "\n",
    "# Carregar as credenciais do Google\n",
    "def get_credentials():\n",
    "    creds = None\n",
    "    # O arquivo token.pickle armazena as credenciais do usuário.\n",
    "    if os.path.exists('token.pickle'):\n",
    "        with open('token.pickle', 'rb') as token:\n",
    "            creds = pickle.load(token)\n",
    "    \n",
    "    # Se as credenciais não estiverem válidas ou não existirem, peça para o usuário se autenticar\n",
    "    if not creds or not creds.valid:\n",
    "        if creds and creds.expired and creds.refresh_token:\n",
    "            creds.refresh(Request())\n",
    "        else:\n",
    "            from google_auth_oauthlib.flow import InstalledAppFlow\n",
    "            flow = InstalledAppFlow.from_client_secrets_file(\n",
    "                'credentials.json',  # Arquivo JSON de credenciais obtido na API do Google\n",
    "                ['https://www.googleapis.com/auth/calendar']\n",
    "            )\n",
    "            creds = flow.run_local_server(port=0)\n",
    "        # Salve as credenciais para futuras execuções\n",
    "        with open('token.pickle', 'wb') as token:\n",
    "            pickle.dump(creds, token)\n",
    "    return creds\n",
    "\n",
    "# Função para criar evento no Google Calendar\n",
    "def create_event(service, summary, description, start_date):\n",
    "    event = {\n",
    "        'summary': summary,\n",
    "        'description': description,\n",
    "        'start': {\n",
    "            'date': start_date,  # Data do evento\n",
    "            'timeZone': 'UTC',\n",
    "        },\n",
    "        'end': {\n",
    "            'date': start_date,  # Data final será a mesma para eventos de dia inteiro\n",
    "            'timeZone': 'UTC',\n",
    "        },\n",
    "        'attendees': [\n",
    "            {'email': 'balacobaco789@gmail.com'},\n",
    "            # Adicione outros emails de destinatários, se necessário\n",
    "        ],\n",
    "    }\n",
    "\n",
    "    try:\n",
    "        event = service.events().insert(\n",
    "            calendarId='primary',\n",
    "            body=event\n",
    "        ).execute()\n",
    "        print(f\"Event created: {event.get('htmlLink')}\")\n",
    "    except HttpError as error:\n",
    "        print(f\"Error creating the event: {error}\")\n",
    "\n",
    "def main():\n",
    "    limit = len(events)\n",
    "    # Autenticando com o Google Calendar API\n",
    "    if events[0][0] == events[1][0]:\n",
    "        skip = True\n",
    "    else: skip = False\n",
    "\n",
    "    creds = get_credentials()\n",
    "    service = build('calendar', 'v3', credentials=creds)\n",
    "    # Criando eventos para as duas primeiras linhas\n",
    "    for (index, event_data) in enumerate(events):\n",
    "        if skip == False:\n",
    "            symbol, name, date, time, event_type = event_data\n",
    "            summary = f\"{symbol} - {event_type}\"\n",
    "            description = f\"Event time: {time}\" if type(time)==str else 'No time specified.'\n",
    "\n",
    "            # Converter datetime para string (usando strftime)\n",
    "            timestamp_str = date.strftime('%d/%m/%Y')\n",
    "\n",
    "            # Exibindo o resultado\n",
    "            print(f\"{symbol} - {event_type}: {timestamp_str}\")\n",
    "            \n",
    "            # A data será utilizada para o evento de dia inteiro\n",
    "            start_date = datetime.datetime.strptime(timestamp_str, '%d/%m/%Y').date().isoformat()\n",
    "            print(start_date)\n",
    "\n",
    "            create_event(service, summary, description, start_date)\n",
    "        if index != limit-1:\n",
    "            if (index % 2) != 0: \n",
    "                if events[index+1][0] == events[index+2][0]:\n",
    "                    skip = True\n",
    "            else: \n",
    "                    skip = False\n",
    "\n",
    "if __name__ == '__main__':\n",
    "    main()\n"
   ]
  },
  {
   "cell_type": "markdown",
   "id": "bd10d8e3",
   "metadata": {},
   "source": [
    "# 2. Update events script"
   ]
  },
  {
   "cell_type": "markdown",
   "id": "ba42cb33",
   "metadata": {},
   "source": [
    "#### a. Getting the data"
   ]
  },
  {
   "cell_type": "code",
   "execution_count": null,
   "id": "352179d1",
   "metadata": {},
   "outputs": [],
   "source": [
    "import pandas as pd\n",
    "import datetime\n",
    "\n",
    "earnings_sheet = pd.read_excel('Earnings data.xlsx')\n",
    "just_new_events = earnings_sheet[earnings_sheet['Date']>datetime.datetime.today()]\n",
    "just_new_events_sorted = just_new_events[::-1]\n",
    "\n",
    "print(just_new_events_sorted)"
   ]
  },
  {
   "cell_type": "markdown",
   "id": "3b340bfe",
   "metadata": {},
   "source": [
    "#### b. Prepare the data"
   ]
  },
  {
   "cell_type": "code",
   "execution_count": 11,
   "id": "b30392c1",
   "metadata": {},
   "outputs": [
    {
     "name": "stdout",
     "output_type": "stream",
     "text": [
      "[['HIMS', 'Hims & Hers Health Inc', Timestamp('2025-05-05 00:00:00'), '17:00 EST', 'Earnings Calls'], ['HIMS', 'Hims & Hers Health Inc', Timestamp('2025-05-05 00:00:00'), nan, 'Earnings Results'], ['DDOG', 'Datadog Inc', Timestamp('2025-05-06 00:00:00'), '08:00 EST', 'Earnings Calls'], ['DDOG', 'Datadog Inc', Timestamp('2025-05-06 00:00:00'), nan, 'Earnings Results'], ['SYM', 'Symbotic Inc', Timestamp('2025-05-07 00:00:00'), '17:00 EST', 'Earnings Calls'], ['SYM', 'Symbotic Inc', Timestamp('2025-05-07 00:00:00'), nan, 'Earnings Results']]\n"
     ]
    }
   ],
   "source": [
    "earnings_sheet_events = just_new_events_sorted.values.tolist()\n",
    "\n",
    "# Pegando os dois primeiros valores da lista\n",
    "events = earnings_sheet_events[:6]\n",
    "\n",
    "# Imprimindo a variável\n",
    "print(events)\n"
   ]
  },
  {
   "cell_type": "code",
   "execution_count": 6,
   "id": "d2ef6a83",
   "metadata": {},
   "outputs": [
    {
     "name": "stdout",
     "output_type": "stream",
     "text": [
      "{('HIMS', Timestamp('2025-05-05 00:00:00'))}\n",
      "{('DDOG', Timestamp('2025-05-06 00:00:00')), ('SYM', Timestamp('2025-05-07 00:00:00'))}\n",
      "{('DDOG', Timestamp('2025-05-08 00:00:00'))}\n",
      "[['DDOG', 'Datadog Inc', Timestamp('2025-05-06 00:00:00'), '08:00 EST', 'Earnings Calls'], ['DDOG', 'Datadog Inc', Timestamp('2025-05-06 00:00:00'), nan, 'Earnings Results'], ['SYM', 'Symbotic Inc', Timestamp('2025-05-07 00:00:00'), '17:00 EST', 'Earnings Calls'], ['SYM', 'Symbotic Inc', Timestamp('2025-05-07 00:00:00'), nan, 'Earnings Results']]\n",
      "[['DDOG', 'Datadog Inc', Timestamp('2025-05-08 00:00:00'), '08:00 EST', 'Earnings Calls'], ['DDOG', 'Datadog Inc', Timestamp('2025-05-08 00:00:00'), None, 'Earnings Results']]\n"
     ]
    }
   ],
   "source": [
    "from pandas import Timestamp\n",
    "\n",
    "# Assuma que esses são seus dois arrays\n",
    "old_events = events  # array antigo\n",
    "from pandas import Timestamp\n",
    "\n",
    "new_events = [\n",
    "    # HIMS → mantido\n",
    "    ['HIMS', 'Hims & Hers Health Inc', Timestamp('2025-05-05 00:00:00'), '17:00 EST', 'Earnings Calls'],\n",
    "    ['HIMS', 'Hims & Hers Health Inc', Timestamp('2025-05-05 00:00:00'), None, 'Earnings Results'],\n",
    "    \n",
    "    # DDOG → modificado (+2 dias)\n",
    "    ['DDOG', 'Datadog Inc', Timestamp('2025-05-08 00:00:00'), '08:00 EST', 'Earnings Calls'],\n",
    "    ['DDOG', 'Datadog Inc', Timestamp('2025-05-08 00:00:00'), None, 'Earnings Results'],\n",
    "    \n",
    "    # SYM → removido (não incluído neste novo array)\n",
    "]\n",
    "\n",
    "\n",
    "# Criar conjuntos de identificação baseados na tupla (sigla, timestamp)\n",
    "old_keys = {(e[0], e[2]) for e in old_events if isinstance(e[2], Timestamp)}\n",
    "new_keys = {(e[0], e[2]) for e in new_events if isinstance(e[2], Timestamp)}\n",
    "\n",
    "# print(old_events)\n",
    "# print(old_keys)\n",
    "# print(new_keys)\n",
    "\n",
    "# Encontrar os eventos\n",
    "same_keys = old_keys & new_keys\n",
    "removed_keys = old_keys - new_keys\n",
    "added_keys = new_keys - old_keys\n",
    "\n",
    "print(same_keys)\n",
    "print(removed_keys)\n",
    "print(added_keys)\n",
    "\n",
    "# Listar os eventos correspondentes\n",
    "removed_events = [e for e in old_events if (e[0], e[2]) in removed_keys]\n",
    "added_events = [e for e in new_events if (e[0], e[2]) in added_keys]\n",
    "\n",
    "print(removed_events)\n",
    "print(added_events)\n"
   ]
  },
  {
   "cell_type": "code",
   "execution_count": 7,
   "id": "c0a503c4",
   "metadata": {},
   "outputs": [],
   "source": [
    "from datetime import datetime\n",
    "\n",
    "def find_closest_event(symbol, old_date, candidate_events):\n",
    "    candidates = [e for e in candidate_events if e[0] == symbol and isinstance(e[2], Timestamp)]\n",
    "    if not candidates:\n",
    "        return None\n",
    "    closest = min(candidates, key=lambda e: abs((e[2] - old_date).days))\n",
    "    return closest\n",
    "\n",
    "events_to_update = []\n",
    "\n",
    "for old_event in removed_events:\n",
    "    symbol, _, old_date, *_ = old_event\n",
    "    closest_new = find_closest_event(symbol, old_date, new_events)\n",
    "    if closest_new:\n",
    "        events_to_update.append((old_event, closest_new))  # (original, novo mais próximo)\n"
   ]
  },
  {
   "cell_type": "markdown",
   "id": "11fcead1",
   "metadata": {},
   "source": [
    "#### c. Updating existing events function"
   ]
  },
  {
   "cell_type": "code",
   "execution_count": 13,
   "id": "856e8ed9",
   "metadata": {},
   "outputs": [],
   "source": [
    "# -------------------- ATUALIZAÇÃO DE EVENTO --------------------\n",
    "\n",
    "def update_event(service, old_event, new_event):\n",
    "    symbol, _, old_date, *_ = old_event\n",
    "    new_date = new_event[2].date().isoformat()\n",
    "    summary = f\"{symbol} - {new_event[4]}\"\n",
    "\n",
    "    try:\n",
    "        result = service.events().list(\n",
    "            calendarId='primary',\n",
    "            timeMin=old_date.isoformat() + 'T00:00:00Z',\n",
    "            timeMax=old_date.isoformat() + 'T23:59:59Z',\n",
    "            q=symbol,\n",
    "            maxResults=10,\n",
    "            singleEvents=True,\n",
    "            orderBy='startTime'\n",
    "        ).execute()\n",
    "\n",
    "        for item in result.get('items', []):\n",
    "            if item['summary'].startswith(symbol):\n",
    "                item['start']['date'] = new_date\n",
    "                item['end']['date'] = new_date\n",
    "                service.events().update(calendarId='primary', eventId=item['id'], body=item).execute()\n",
    "                print(f\"🔁 Evento atualizado: {summary} para {new_date}\")\n",
    "                return\n",
    "\n",
    "        print(f\"⚠ Evento não encontrado para atualização: {summary} em {old_date.date()}\")\n",
    "\n",
    "    except HttpError as error:\n",
    "        print(f\"Erro ao atualizar evento: {error}\")"
   ]
  },
  {
   "cell_type": "markdown",
   "id": "224c0873",
   "metadata": {},
   "source": [
    "#### d. Creating events function"
   ]
  },
  {
   "cell_type": "code",
   "execution_count": 12,
   "id": "19ec427d",
   "metadata": {},
   "outputs": [],
   "source": [
    "import os\n",
    "import pickle\n",
    "import datetime\n",
    "from google.auth.transport.requests import Request\n",
    "from google.oauth2.credentials import Credentials\n",
    "from googleapiclient.discovery import build\n",
    "from googleapiclient.errors import HttpError\n",
    "\n",
    "# Carregar as credenciais do Google\n",
    "def get_credentials():\n",
    "    creds = None\n",
    "    # O arquivo token.pickle armazena as credenciais do usuário.\n",
    "    if os.path.exists('token.pickle'):\n",
    "        with open('token.pickle', 'rb') as token:\n",
    "            creds = pickle.load(token)\n",
    "    \n",
    "    # Se as credenciais não estiverem válidas ou não existirem, peça para o usuário se autenticar\n",
    "    if not creds or not creds.valid:\n",
    "        if creds and creds.expired and creds.refresh_token:\n",
    "            creds.refresh(Request())\n",
    "        else:\n",
    "            from google_auth_oauthlib.flow import InstalledAppFlow\n",
    "            flow = InstalledAppFlow.from_client_secrets_file(\n",
    "                'credentials.json',  # Arquivo JSON de credenciais obtido na API do Google\n",
    "                ['https://www.googleapis.com/auth/calendar']\n",
    "            )\n",
    "            creds = flow.run_local_server(port=0)\n",
    "        # Salve as credenciais para futuras execuções\n",
    "        with open('token.pickle', 'wb') as token:\n",
    "            pickle.dump(creds, token)\n",
    "    return creds\n",
    "\n",
    "def create_event(service, symbol, description, date, event_type):\n",
    "    summary = f\"{symbol} - {event_type}\"\n",
    "    body = {\n",
    "        'summary': summary,\n",
    "        'description': description,\n",
    "        'start': {\n",
    "            'date': date,\n",
    "            'timeZone': 'UTC',\n",
    "        },\n",
    "        'end': {\n",
    "            'date': date,\n",
    "            'timeZone': 'UTC',\n",
    "        },\n",
    "        'attendees': [\n",
    "            {'email': 'gustavo@xcap.vc'}\n",
    "        ],\n",
    "    }\n",
    "    try:\n",
    "        event = service.events().insert(calendarId='primary', body=body).execute()\n",
    "        print(f\"✔ Evento criado: {summary} em {date}\")\n",
    "    except HttpError as error:\n",
    "        print(f\"Erro ao criar evento: {error}\")"
   ]
  },
  {
   "cell_type": "markdown",
   "id": "f1a381f6",
   "metadata": {},
   "source": [
    "#### e. Main function"
   ]
  },
  {
   "cell_type": "code",
   "execution_count": 18,
   "id": "028e7dc7",
   "metadata": {},
   "outputs": [
    {
     "name": "stdout",
     "output_type": "stream",
     "text": [
      "✔ Evento criado: DDOG - Earnings Calls em 2025-05-08\n",
      "✔ Evento criado: DDOG - Earnings Results em 2025-05-08\n",
      "Erro ao atualizar evento: <HttpError 400 when requesting https://www.googleapis.com/calendar/v3/calendars/primary/events?timeMin=2025-05-06T00%3A00%3A00T00%3A00%3A00Z&timeMax=2025-05-06T00%3A00%3A00T23%3A59%3A59Z&q=DDOG&maxResults=10&singleEvents=true&orderBy=startTime&alt=json returned \"Bad Request\". Details: \"[{'domain': 'global', 'reason': 'badRequest', 'message': 'Bad Request'}]\">\n",
      "Erro ao atualizar evento: <HttpError 400 when requesting https://www.googleapis.com/calendar/v3/calendars/primary/events?timeMin=2025-05-06T00%3A00%3A00T00%3A00%3A00Z&timeMax=2025-05-06T00%3A00%3A00T23%3A59%3A59Z&q=DDOG&maxResults=10&singleEvents=true&orderBy=startTime&alt=json returned \"Bad Request\". Details: \"[{'domain': 'global', 'reason': 'badRequest', 'message': 'Bad Request'}]\">\n"
     ]
    }
   ],
   "source": [
    "def main():\n",
    "   # Conectar com API do Google\n",
    "    creds = get_credentials()\n",
    "    service = build('calendar', 'v3', credentials=creds)\n",
    "\n",
    "    # Criar eventos novos\n",
    "    for e in added_events:\n",
    "        date_str = e[2].date().isoformat()\n",
    "        description = f\"Event time: {e[3]}\" if isinstance(e[3], str) else 'No time specified.'\n",
    "        create_event(service, e[0], description, date_str, e[4])\n",
    "\n",
    "    # Atualizar eventos\n",
    "    for old_e, new_e in events_to_update:\n",
    "        update_event(service, old_e, new_e)\n",
    "\n",
    "if __name__ == '__main__':\n",
    "    main()"
   ]
  }
 ],
 "metadata": {
  "kernelspec": {
   "display_name": "Python 3",
   "language": "python",
   "name": "python3"
  },
  "language_info": {
   "codemirror_mode": {
    "name": "ipython",
    "version": 3
   },
   "file_extension": ".py",
   "mimetype": "text/x-python",
   "name": "python",
   "nbconvert_exporter": "python",
   "pygments_lexer": "ipython3",
   "version": "3.13.3"
  }
 },
 "nbformat": 4,
 "nbformat_minor": 5
}
